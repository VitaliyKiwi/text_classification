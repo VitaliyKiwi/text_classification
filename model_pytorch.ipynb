{
 "cells": [
  {
   "cell_type": "markdown",
   "metadata": {},
   "source": [
    "### Build text classification models using PyTorch\n",
    "- Load data into pandas dataframe\n",
    "- Encode categorical label values into integer type\n",
    "- Split data into train and test subset using 80/20 ratio\n",
    "- Use TfidfVectorizer to transform input texts into tfidf encoded float point matrix\n",
    "- Build and train models\n",
    "- Evaluate model performace"
   ]
  },
  {
   "cell_type": "code",
   "execution_count": 2,
   "metadata": {},
   "outputs": [
    {
     "data": {
      "text/plain": [
       "'1.5.1'"
      ]
     },
     "execution_count": 2,
     "metadata": {},
     "output_type": "execute_result"
    }
   ],
   "source": [
    "import torch\n",
    "from torch import nn\n",
    "import numpy as np\n",
    "import pandas as pd\n",
    "from sklearn.model_selection import train_test_split\n",
    "from sklearn.feature_extraction.text import TfidfVectorizer\n",
    "import scipy\n",
    "from torch import optim\n",
    "import matplotlib.pyplot as plt\n",
    "%matplotlib inline\n",
    "%config InlineBackend.figure_format = 'retina'\n",
    "torch.__version__"
   ]
  },
  {
   "cell_type": "markdown",
   "metadata": {},
   "source": [
    "##### Load data into pandas dataframe"
   ]
  },
  {
   "cell_type": "code",
   "execution_count": 3,
   "metadata": {},
   "outputs": [
    {
     "name": "stdout",
     "output_type": "stream",
     "text": [
      "(2225, 2) 5\n"
     ]
    },
    {
     "data": {
      "text/html": [
       "<div>\n",
       "<style scoped>\n",
       "    .dataframe tbody tr th:only-of-type {\n",
       "        vertical-align: middle;\n",
       "    }\n",
       "\n",
       "    .dataframe tbody tr th {\n",
       "        vertical-align: top;\n",
       "    }\n",
       "\n",
       "    .dataframe thead th {\n",
       "        text-align: right;\n",
       "    }\n",
       "</style>\n",
       "<table border=\"1\" class=\"dataframe\">\n",
       "  <thead>\n",
       "    <tr style=\"text-align: right;\">\n",
       "      <th></th>\n",
       "      <th>category</th>\n",
       "      <th>text</th>\n",
       "    </tr>\n",
       "  </thead>\n",
       "  <tbody>\n",
       "    <tr>\n",
       "      <th>0</th>\n",
       "      <td>tech</td>\n",
       "      <td>tv future in the hands of viewers with home th...</td>\n",
       "    </tr>\n",
       "    <tr>\n",
       "      <th>1</th>\n",
       "      <td>business</td>\n",
       "      <td>worldcom boss  left books alone  former worldc...</td>\n",
       "    </tr>\n",
       "  </tbody>\n",
       "</table>\n",
       "</div>"
      ],
      "text/plain": [
       "   category                                               text\n",
       "0      tech  tv future in the hands of viewers with home th...\n",
       "1  business  worldcom boss  left books alone  former worldc..."
      ]
     },
     "execution_count": 3,
     "metadata": {},
     "output_type": "execute_result"
    }
   ],
   "source": [
    "df = pd.read_csv('bbc-text.csv')\n",
    "print(df.shape, df['category'].nunique())\n",
    "df.head(2)"
   ]
  },
  {
   "cell_type": "markdown",
   "metadata": {},
   "source": [
    "#### Encode categorical label values into integer type"
   ]
  },
  {
   "cell_type": "code",
   "execution_count": 4,
   "metadata": {},
   "outputs": [],
   "source": [
    "from sklearn.preprocessing import LabelEncoder\n",
    "le = LabelEncoder().fit(df[\"category\"])\n",
    "df['encoded_cat'] = le.transform(df['category'])"
   ]
  },
  {
   "cell_type": "code",
   "execution_count": 5,
   "metadata": {},
   "outputs": [
    {
     "data": {
      "text/html": [
       "<div>\n",
       "<style scoped>\n",
       "    .dataframe tbody tr th:only-of-type {\n",
       "        vertical-align: middle;\n",
       "    }\n",
       "\n",
       "    .dataframe tbody tr th {\n",
       "        vertical-align: top;\n",
       "    }\n",
       "\n",
       "    .dataframe thead th {\n",
       "        text-align: right;\n",
       "    }\n",
       "</style>\n",
       "<table border=\"1\" class=\"dataframe\">\n",
       "  <thead>\n",
       "    <tr style=\"text-align: right;\">\n",
       "      <th></th>\n",
       "      <th>category</th>\n",
       "      <th>text</th>\n",
       "      <th>encoded_cat</th>\n",
       "    </tr>\n",
       "  </thead>\n",
       "  <tbody>\n",
       "    <tr>\n",
       "      <th>0</th>\n",
       "      <td>tech</td>\n",
       "      <td>tv future in the hands of viewers with home th...</td>\n",
       "      <td>4</td>\n",
       "    </tr>\n",
       "    <tr>\n",
       "      <th>1</th>\n",
       "      <td>business</td>\n",
       "      <td>worldcom boss  left books alone  former worldc...</td>\n",
       "      <td>0</td>\n",
       "    </tr>\n",
       "  </tbody>\n",
       "</table>\n",
       "</div>"
      ],
      "text/plain": [
       "   category                                               text  encoded_cat\n",
       "0      tech  tv future in the hands of viewers with home th...            4\n",
       "1  business  worldcom boss  left books alone  former worldc...            0"
      ]
     },
     "execution_count": 5,
     "metadata": {},
     "output_type": "execute_result"
    }
   ],
   "source": [
    "df.head(2)"
   ]
  },
  {
   "cell_type": "markdown",
   "metadata": {},
   "source": [
    "#### Split data into train and test subset using 80/20 split, we will train model using train data and test the model using test dataset"
   ]
  },
  {
   "cell_type": "code",
   "execution_count": 6,
   "metadata": {},
   "outputs": [
    {
     "name": "stdout",
     "output_type": "stream",
     "text": [
      "(1780,) (445,) (1780,) (445,)\n"
     ]
    }
   ],
   "source": [
    "x_train, x_test, y_train, y_test = train_test_split(\n",
    "    df['text'], df['encoded_cat'], test_size=.2, stratify=df['category'], random_state=42)\n",
    "\n",
    "print(x_train.shape, x_test.shape, y_train.shape, y_test.shape)"
   ]
  },
  {
   "cell_type": "markdown",
   "metadata": {},
   "source": [
    "#### Use TfidfVectorizer to transform input texts into tfidf encoded float point matrix"
   ]
  },
  {
   "cell_type": "code",
   "execution_count": 7,
   "metadata": {},
   "outputs": [],
   "source": [
    "vectorizer = TfidfVectorizer()\n",
    "\n",
    "# Learn vocabulary from training texts and vectorize training texts.\n",
    "x_train = vectorizer.fit_transform(x_train)\n",
    "\n",
    "# Vectorize test texts.\n",
    "x_test = vectorizer.transform(x_test)"
   ]
  },
  {
   "cell_type": "markdown",
   "metadata": {},
   "source": [
    "#### Convert tfidf sparse matrix into pytorch float type tensor in order to feed into pytorch neural network"
   ]
  },
  {
   "cell_type": "code",
   "execution_count": 8,
   "metadata": {},
   "outputs": [],
   "source": [
    "x_train = torch.tensor(scipy.sparse.csr_matrix.todense(x_train)).float()\n",
    "x_test = torch.tensor(scipy.sparse.csr_matrix.todense(x_test)).float()"
   ]
  },
  {
   "cell_type": "markdown",
   "metadata": {},
   "source": [
    "#### Convert label values into pytorch tensor"
   ]
  },
  {
   "cell_type": "code",
   "execution_count": 9,
   "metadata": {},
   "outputs": [],
   "source": [
    "y_train = torch.tensor(y_train.values)\n",
    "y_test = torch.tensor(y_test.values)"
   ]
  },
  {
   "cell_type": "markdown",
   "metadata": {},
   "source": [
    "#### Construct a simple multi-layer perceptions network "
   ]
  },
  {
   "cell_type": "code",
   "execution_count": 57,
   "metadata": {},
   "outputs": [],
   "source": [
    "model = nn.Sequential(nn.Linear(x_train.shape[1], 64),\n",
    "                      nn.ReLU(),\n",
    "                      nn.Dropout(0.1),\n",
    "                      nn.Linear(64, df['category'].nunique()),\n",
    "                      nn.LogSoftmax(dim=1))\n",
    "\n",
    "# Define the loss\n",
    "criterion = nn.NLLLoss()\n",
    "\n",
    "# Forward pass, get our logits\n",
    "logps = model(x_train)\n",
    "# Calculate the loss with the logits and the labels\n",
    "loss = criterion(logps, y_train)\n",
    "\n",
    "loss.backward()\n",
    "\n",
    "# Optimizers require the parameters to optimize and a learning rate\n",
    "optimizer = optim.Adam(model.parameters(), lr=0.002)"
   ]
  },
  {
   "cell_type": "markdown",
   "metadata": {},
   "source": [
    "#### Train the neural network with 300 epochs, store the train and test loss so we can plot the training results"
   ]
  },
  {
   "cell_type": "code",
   "execution_count": 58,
   "metadata": {},
   "outputs": [
    {
     "name": "stdout",
     "output_type": "stream",
     "text": [
      "Epoch: 1/50..  Training Loss: 1.611..  Test Loss: 1.598..  Test Accuracy: 0.189\n",
      "Epoch: 2/50..  Training Loss: 1.596..  Test Loss: 1.578..  Test Accuracy: 0.189\n",
      "Epoch: 3/50..  Training Loss: 1.573..  Test Loss: 1.556..  Test Accuracy: 0.270\n",
      "Epoch: 4/50..  Training Loss: 1.546..  Test Loss: 1.534..  Test Accuracy: 0.443\n",
      "Epoch: 5/50..  Training Loss: 1.518..  Test Loss: 1.511..  Test Accuracy: 0.613\n",
      "Epoch: 6/50..  Training Loss: 1.490..  Test Loss: 1.485..  Test Accuracy: 0.699\n",
      "Epoch: 7/50..  Training Loss: 1.459..  Test Loss: 1.459..  Test Accuracy: 0.782\n",
      "Epoch: 8/50..  Training Loss: 1.427..  Test Loss: 1.430..  Test Accuracy: 0.822\n",
      "Epoch: 9/50..  Training Loss: 1.391..  Test Loss: 1.401..  Test Accuracy: 0.858\n",
      "Epoch: 10/50..  Training Loss: 1.356..  Test Loss: 1.370..  Test Accuracy: 0.867\n",
      "Epoch: 11/50..  Training Loss: 1.319..  Test Loss: 1.339..  Test Accuracy: 0.883\n",
      "Epoch: 12/50..  Training Loss: 1.281..  Test Loss: 1.306..  Test Accuracy: 0.897\n",
      "Epoch: 13/50..  Training Loss: 1.240..  Test Loss: 1.273..  Test Accuracy: 0.915\n",
      "Epoch: 14/50..  Training Loss: 1.199..  Test Loss: 1.238..  Test Accuracy: 0.924\n",
      "Epoch: 15/50..  Training Loss: 1.157..  Test Loss: 1.203..  Test Accuracy: 0.935\n",
      "Epoch: 16/50..  Training Loss: 1.114..  Test Loss: 1.167..  Test Accuracy: 0.939\n",
      "Epoch: 17/50..  Training Loss: 1.070..  Test Loss: 1.130..  Test Accuracy: 0.939\n",
      "Epoch: 18/50..  Training Loss: 1.025..  Test Loss: 1.093..  Test Accuracy: 0.942\n",
      "Epoch: 19/50..  Training Loss: 0.982..  Test Loss: 1.055..  Test Accuracy: 0.948\n",
      "Epoch: 20/50..  Training Loss: 0.936..  Test Loss: 1.017..  Test Accuracy: 0.955\n",
      "Epoch: 21/50..  Training Loss: 0.890..  Test Loss: 0.978..  Test Accuracy: 0.957\n",
      "Epoch: 22/50..  Training Loss: 0.848..  Test Loss: 0.940..  Test Accuracy: 0.957\n",
      "Epoch: 23/50..  Training Loss: 0.801..  Test Loss: 0.902..  Test Accuracy: 0.962\n",
      "Epoch: 24/50..  Training Loss: 0.755..  Test Loss: 0.864..  Test Accuracy: 0.962\n",
      "Epoch: 25/50..  Training Loss: 0.712..  Test Loss: 0.827..  Test Accuracy: 0.969\n",
      "Epoch: 26/50..  Training Loss: 0.671..  Test Loss: 0.790..  Test Accuracy: 0.969\n",
      "Epoch: 27/50..  Training Loss: 0.631..  Test Loss: 0.754..  Test Accuracy: 0.973\n",
      "Epoch: 28/50..  Training Loss: 0.590..  Test Loss: 0.719..  Test Accuracy: 0.973\n",
      "Epoch: 29/50..  Training Loss: 0.550..  Test Loss: 0.684..  Test Accuracy: 0.973\n",
      "Epoch: 30/50..  Training Loss: 0.514..  Test Loss: 0.651..  Test Accuracy: 0.975\n",
      "Epoch: 31/50..  Training Loss: 0.476..  Test Loss: 0.619..  Test Accuracy: 0.975\n",
      "Epoch: 32/50..  Training Loss: 0.443..  Test Loss: 0.588..  Test Accuracy: 0.975\n",
      "Epoch: 33/50..  Training Loss: 0.411..  Test Loss: 0.559..  Test Accuracy: 0.978\n",
      "Epoch: 34/50..  Training Loss: 0.382..  Test Loss: 0.530..  Test Accuracy: 0.978\n",
      "Epoch: 35/50..  Training Loss: 0.352..  Test Loss: 0.503..  Test Accuracy: 0.978\n",
      "Epoch: 36/50..  Training Loss: 0.325..  Test Loss: 0.478..  Test Accuracy: 0.978\n",
      "Epoch: 37/50..  Training Loss: 0.301..  Test Loss: 0.453..  Test Accuracy: 0.980\n",
      "Epoch: 38/50..  Training Loss: 0.277..  Test Loss: 0.431..  Test Accuracy: 0.980\n",
      "Epoch: 39/50..  Training Loss: 0.255..  Test Loss: 0.409..  Test Accuracy: 0.980\n",
      "Epoch: 40/50..  Training Loss: 0.235..  Test Loss: 0.389..  Test Accuracy: 0.980\n",
      "Epoch: 41/50..  Training Loss: 0.217..  Test Loss: 0.370..  Test Accuracy: 0.980\n",
      "Epoch: 42/50..  Training Loss: 0.199..  Test Loss: 0.352..  Test Accuracy: 0.978\n",
      "Epoch: 43/50..  Training Loss: 0.184..  Test Loss: 0.336..  Test Accuracy: 0.978\n",
      "Epoch: 44/50..  Training Loss: 0.169..  Test Loss: 0.321..  Test Accuracy: 0.980\n",
      "Epoch: 45/50..  Training Loss: 0.157..  Test Loss: 0.306..  Test Accuracy: 0.980\n",
      "Epoch: 46/50..  Training Loss: 0.146..  Test Loss: 0.293..  Test Accuracy: 0.980\n",
      "Epoch: 47/50..  Training Loss: 0.134..  Test Loss: 0.281..  Test Accuracy: 0.980\n",
      "Epoch: 48/50..  Training Loss: 0.124..  Test Loss: 0.270..  Test Accuracy: 0.980\n",
      "Epoch: 49/50..  Training Loss: 0.115..  Test Loss: 0.259..  Test Accuracy: 0.980\n",
      "Epoch: 50/50..  Training Loss: 0.106..  Test Loss: 0.250..  Test Accuracy: 0.982\n",
      "CPU times: user 35.2 s, sys: 538 ms, total: 35.7 s\n",
      "Wall time: 2.41 s\n"
     ]
    }
   ],
   "source": [
    "%%time\n",
    "train_losses = []\n",
    "test_losses = []\n",
    "test_accuracies = []\n",
    "\n",
    "epochs = 50\n",
    "for e in range(epochs):\n",
    "    optimizer.zero_grad()\n",
    "\n",
    "    output = model.forward(x_train)\n",
    "    loss = criterion(output, y_train)\n",
    "    loss.backward()\n",
    "    train_loss = loss.item()\n",
    "    train_losses.append(train_loss)\n",
    "    \n",
    "    optimizer.step()\n",
    "\n",
    "    # Turn off gradients for validation, saves memory and computations\n",
    "    with torch.no_grad():\n",
    "        model.eval()\n",
    "        log_ps = model(x_test)\n",
    "        test_loss = criterion(log_ps, y_test)\n",
    "        test_losses.append(test_loss)\n",
    "\n",
    "        ps = torch.exp(log_ps)\n",
    "        top_p, top_class = ps.topk(1, dim=1)\n",
    "        equals = top_class == y_test.view(*top_class.shape)\n",
    "        test_accuracy = torch.mean(equals.float())\n",
    "        test_accuracies.append(test_accuracy)\n",
    "\n",
    "    model.train()\n",
    "\n",
    "    print(f\"Epoch: {e+1}/{epochs}.. \",\n",
    "          f\"Training Loss: {train_loss:.3f}.. \",\n",
    "          f\"Test Loss: {test_loss:.3f}.. \",\n",
    "          f\"Test Accuracy: {test_accuracy:.3f}\")"
   ]
  },
  {
   "cell_type": "code",
   "execution_count": 59,
   "metadata": {},
   "outputs": [
    {
     "data": {
      "image/png": "[encoded data removed]",
      "text/plain": [
       "<Figure size 864x360 with 2 Axes>"
      ]
     },
     "metadata": {
      "image/png": {
       "height": 316,
       "width": 720
      },
      "needs_background": "light"
     },
     "output_type": "display_data"
    }
   ],
   "source": [
    "plt.figure(figsize=(12, 5))\n",
    "ax = plt.subplot(121)\n",
    "plt.xlabel('epochs')\n",
    "plt.ylabel('negative log likelihood loss')\n",
    "plt.plot(train_losses, label='Training loss')\n",
    "plt.plot(test_losses, label='Validation loss')\n",
    "plt.legend(frameon=False);\n",
    "plt.subplot(122)\n",
    "plt.xlabel('epochs')\n",
    "plt.ylabel('test accuracy')\n",
    "plt.plot(test_accuracies);"
   ]
  },
  {
   "cell_type": "markdown",
   "metadata": {},
   "source": [
    "### Result:\n",
    "The training process took less than 3 seconds to complete. After 13 epochs the model has achieved 90% test accuracy and continue to go up to 98.2% at 50 epochs."
   ]
  },
  {
   "cell_type": "code",
   "execution_count": null,
   "metadata": {},
   "outputs": [],
   "source": []
  }
 ],
 "metadata": {
  "kernelspec": {
   "display_name": "Python 3",
   "language": "python",
   "name": "python3"
  },
  "language_info": {
   "codemirror_mode": {
    "name": "ipython",
    "version": 3
   },
   "file_extension": ".py",
   "mimetype": "text/x-python",
   "name": "python",
   "nbconvert_exporter": "python",
   "pygments_lexer": "ipython3",
   "version": "3.8.3"
  }
 },
 "nbformat": 4,
 "nbformat_minor": 4
}
