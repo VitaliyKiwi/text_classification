{
 "cells": [
  {
   "cell_type": "markdown",
   "metadata": {},
   "source": [
    "### Build text classification models using PyTorch¶\n",
    "- Load data into pandas dataframe\n",
    "- Encode categorical label values into integer type\n",
    "- Split data into train and test subset using 80/20 ratio\n",
    "- Extract texts into padded sequence matrix\n",
    "- Build and train models\n",
    "- Evaluate model performace"
   ]
  },
  {
   "cell_type": "code",
   "execution_count": 21,
   "metadata": {},
   "outputs": [],
   "source": [
    "import tensorflow as tf\n",
    "import pandas as pd\n",
    "import numpy as np\n",
    "import scipy\n",
    "from tensorflow.keras.preprocessing.text import Tokenizer\n",
    "from tensorflow.keras.preprocessing.sequence import pad_sequences\n",
    "from sklearn.model_selection import train_test_split"
   ]
  },
  {
   "cell_type": "markdown",
   "metadata": {},
   "source": [
    "#### Load data into pandas dataframe"
   ]
  },
  {
   "cell_type": "code",
   "execution_count": 22,
   "metadata": {},
   "outputs": [
    {
     "name": "stdout",
     "output_type": "stream",
     "text": [
      "(2225, 2) 5\n"
     ]
    },
    {
     "data": {
      "text/html": [
       "<div>\n",
       "<style scoped>\n",
       "    .dataframe tbody tr th:only-of-type {\n",
       "        vertical-align: middle;\n",
       "    }\n",
       "\n",
       "    .dataframe tbody tr th {\n",
       "        vertical-align: top;\n",
       "    }\n",
       "\n",
       "    .dataframe thead th {\n",
       "        text-align: right;\n",
       "    }\n",
       "</style>\n",
       "<table border=\"1\" class=\"dataframe\">\n",
       "  <thead>\n",
       "    <tr style=\"text-align: right;\">\n",
       "      <th></th>\n",
       "      <th>category</th>\n",
       "      <th>text</th>\n",
       "    </tr>\n",
       "  </thead>\n",
       "  <tbody>\n",
       "    <tr>\n",
       "      <th>0</th>\n",
       "      <td>tech</td>\n",
       "      <td>tv future in the hands of viewers with home th...</td>\n",
       "    </tr>\n",
       "    <tr>\n",
       "      <th>1</th>\n",
       "      <td>business</td>\n",
       "      <td>worldcom boss  left books alone  former worldc...</td>\n",
       "    </tr>\n",
       "  </tbody>\n",
       "</table>\n",
       "</div>"
      ],
      "text/plain": [
       "   category                                               text\n",
       "0      tech  tv future in the hands of viewers with home th...\n",
       "1  business  worldcom boss  left books alone  former worldc..."
      ]
     },
     "execution_count": 22,
     "metadata": {},
     "output_type": "execute_result"
    }
   ],
   "source": [
    "df = pd.read_csv('bbc-text.csv')\n",
    "print(df.shape, df['category'].nunique())\n",
    "df.head(2)"
   ]
  },
  {
   "cell_type": "markdown",
   "metadata": {},
   "source": [
    "#### Encode categorical lable values into integers"
   ]
  },
  {
   "cell_type": "code",
   "execution_count": 23,
   "metadata": {},
   "outputs": [],
   "source": [
    "from sklearn.preprocessing import LabelEncoder\n",
    "le = LabelEncoder().fit(df[\"category\"])\n",
    "df['encoded_cat'] = le.transform(df['category'])"
   ]
  },
  {
   "cell_type": "code",
   "execution_count": 24,
   "metadata": {},
   "outputs": [
    {
     "data": {
      "text/html": [
       "<div>\n",
       "<style scoped>\n",
       "    .dataframe tbody tr th:only-of-type {\n",
       "        vertical-align: middle;\n",
       "    }\n",
       "\n",
       "    .dataframe tbody tr th {\n",
       "        vertical-align: top;\n",
       "    }\n",
       "\n",
       "    .dataframe thead th {\n",
       "        text-align: right;\n",
       "    }\n",
       "</style>\n",
       "<table border=\"1\" class=\"dataframe\">\n",
       "  <thead>\n",
       "    <tr style=\"text-align: right;\">\n",
       "      <th></th>\n",
       "      <th>category</th>\n",
       "      <th>text</th>\n",
       "      <th>encoded_cat</th>\n",
       "    </tr>\n",
       "  </thead>\n",
       "  <tbody>\n",
       "    <tr>\n",
       "      <th>0</th>\n",
       "      <td>tech</td>\n",
       "      <td>tv future in the hands of viewers with home th...</td>\n",
       "      <td>4</td>\n",
       "    </tr>\n",
       "    <tr>\n",
       "      <th>1</th>\n",
       "      <td>business</td>\n",
       "      <td>worldcom boss  left books alone  former worldc...</td>\n",
       "      <td>0</td>\n",
       "    </tr>\n",
       "  </tbody>\n",
       "</table>\n",
       "</div>"
      ],
      "text/plain": [
       "   category                                               text  encoded_cat\n",
       "0      tech  tv future in the hands of viewers with home th...            4\n",
       "1  business  worldcom boss  left books alone  former worldc...            0"
      ]
     },
     "execution_count": 24,
     "metadata": {},
     "output_type": "execute_result"
    }
   ],
   "source": [
    "df.head(2)"
   ]
  },
  {
   "cell_type": "markdown",
   "metadata": {},
   "source": [
    "#### Split data into train and test subset using 80/20 split, we will train model using train data and test the model using test dataset"
   ]
  },
  {
   "cell_type": "code",
   "execution_count": 25,
   "metadata": {},
   "outputs": [
    {
     "name": "stdout",
     "output_type": "stream",
     "text": [
      "(1780,) (445,) (1780,) (445,)\n"
     ]
    }
   ],
   "source": [
    "x_train, x_test, y_train, y_test = train_test_split(\n",
    "    df['text'], df['encoded_cat'], test_size=.2, stratify=df['category'], random_state=42)\n",
    "\n",
    "print(x_train.shape, x_test.shape, y_train.shape, y_test.shape)"
   ]
  },
  {
   "cell_type": "markdown",
   "metadata": {},
   "source": [
    "#### Convert text into sequence integers "
   ]
  },
  {
   "cell_type": "code",
   "execution_count": 26,
   "metadata": {},
   "outputs": [],
   "source": [
    "vocab_size = 20000\n",
    "tokenizer = Tokenizer(num_words=vocab_size, oov_token='<OOV>')\n",
    "tokenizer.fit_on_texts(x_train)\n",
    "word_index = tokenizer.word_index\n",
    "x_seq = tokenizer.texts_to_sequences(x_train)"
   ]
  },
  {
   "cell_type": "markdown",
   "metadata": {},
   "source": [
    "#### Check the maximum number of sequences in sample data"
   ]
  },
  {
   "cell_type": "code",
   "execution_count": 27,
   "metadata": {},
   "outputs": [
    {
     "data": {
      "text/plain": [
       "4491"
      ]
     },
     "execution_count": 27,
     "metadata": {},
     "output_type": "execute_result"
    }
   ],
   "source": [
    "max([len(e) for e in x_seq])"
   ]
  },
  {
   "cell_type": "markdown",
   "metadata": {},
   "source": [
    "#### Add padding to sequence so all rows have the same length, so the input texts can become a matrix"
   ]
  },
  {
   "cell_type": "code",
   "execution_count": 28,
   "metadata": {},
   "outputs": [],
   "source": [
    "padding_type = 'post'\n",
    "max_len = 5000\n",
    "x_train = pad_sequences(x_seq, padding=padding_type, maxlen=max_len)\n",
    "x_test = pad_sequences(tokenizer.texts_to_sequences(x_test), padding=padding_type, maxlen=max_len)"
   ]
  },
  {
   "cell_type": "code",
   "execution_count": 29,
   "metadata": {},
   "outputs": [
    {
     "data": {
      "text/plain": [
       "(1780, 5000)"
      ]
     },
     "execution_count": 29,
     "metadata": {},
     "output_type": "execute_result"
    }
   ],
   "source": [
    "x_train.shape"
   ]
  },
  {
   "cell_type": "markdown",
   "metadata": {},
   "source": [
    "#### Construct a simple multi-layer perceptions network\n",
    "- Add word embedding layer\n",
    "- Apply GlobalAveragePooling1D"
   ]
  },
  {
   "cell_type": "code",
   "execution_count": 51,
   "metadata": {},
   "outputs": [],
   "source": [
    "model = tf.keras.Sequential([\n",
    "                            tf.keras.layers.Embedding(vocab_size, 32, input_length=x_train.shape[1]),\n",
    "                            tf.keras.layers.GlobalAveragePooling1D(),\n",
    "                            tf.keras.layers.Dropout(0.2),\n",
    "                            tf.keras.layers.Dense(32, activation='relu'),\n",
    "                            tf.keras.layers.Dropout(0.2),\n",
    "                            tf.keras.layers.Dense(df['category'].nunique(), activation='softmax')\n",
    "])"
   ]
  },
  {
   "cell_type": "code",
   "execution_count": 52,
   "metadata": {},
   "outputs": [
    {
     "name": "stdout",
     "output_type": "stream",
     "text": [
      "Model: \"sequential_11\"\n",
      "_________________________________________________________________\n",
      "Layer (type)                 Output Shape              Param #   \n",
      "=================================================================\n",
      "embedding_11 (Embedding)     (None, 5000, 32)          640000    \n",
      "_________________________________________________________________\n",
      "global_average_pooling1d_8 ( (None, 32)                0         \n",
      "_________________________________________________________________\n",
      "dropout_23 (Dropout)         (None, 32)                0         \n",
      "_________________________________________________________________\n",
      "dense_24 (Dense)             (None, 32)                1056      \n",
      "_________________________________________________________________\n",
      "dropout_24 (Dropout)         (None, 32)                0         \n",
      "_________________________________________________________________\n",
      "dense_25 (Dense)             (None, 5)                 165       \n",
      "=================================================================\n",
      "Total params: 641,221\n",
      "Trainable params: 641,221\n",
      "Non-trainable params: 0\n",
      "_________________________________________________________________\n"
     ]
    }
   ],
   "source": [
    "model.compile(loss='sparse_categorical_crossentropy', optimizer='adam', metrics=['accuracy'])\n",
    "model.summary()"
   ]
  },
  {
   "cell_type": "markdown",
   "metadata": {},
   "source": [
    "#### Train the neural network with 70 epochs, store the train and test loss so we can plot the training results"
   ]
  },
  {
   "cell_type": "code",
   "execution_count": 53,
   "metadata": {},
   "outputs": [
    {
     "name": "stdout",
     "output_type": "stream",
     "text": [
      "Epoch 1/50\n",
      "56/56 - 1s - loss: 1.6072 - accuracy: 0.2180 - val_loss: 1.6030 - val_accuracy: 0.2292\n",
      "Epoch 2/50\n",
      "56/56 - 1s - loss: 1.6017 - accuracy: 0.2292 - val_loss: 1.5999 - val_accuracy: 0.2292\n",
      "Epoch 3/50\n",
      "56/56 - 1s - loss: 1.5984 - accuracy: 0.2388 - val_loss: 1.5968 - val_accuracy: 0.2292\n",
      "Epoch 4/50\n",
      "56/56 - 1s - loss: 1.5966 - accuracy: 0.2500 - val_loss: 1.5926 - val_accuracy: 0.2292\n",
      "Epoch 5/50\n",
      "56/56 - 1s - loss: 1.5903 - accuracy: 0.2449 - val_loss: 1.5860 - val_accuracy: 0.2292\n",
      "Epoch 6/50\n",
      "56/56 - 1s - loss: 1.5815 - accuracy: 0.2685 - val_loss: 1.5756 - val_accuracy: 0.2337\n",
      "Epoch 7/50\n",
      "56/56 - 1s - loss: 1.5694 - accuracy: 0.2478 - val_loss: 1.5578 - val_accuracy: 0.2360\n",
      "Epoch 8/50\n",
      "56/56 - 1s - loss: 1.5455 - accuracy: 0.3292 - val_loss: 1.5248 - val_accuracy: 0.5798\n",
      "Epoch 9/50\n",
      "56/56 - 1s - loss: 1.5058 - accuracy: 0.3938 - val_loss: 1.4761 - val_accuracy: 0.3978\n",
      "Epoch 10/50\n",
      "56/56 - 1s - loss: 1.4479 - accuracy: 0.4624 - val_loss: 1.4110 - val_accuracy: 0.4449\n",
      "Epoch 11/50\n",
      "56/56 - 1s - loss: 1.3835 - accuracy: 0.4865 - val_loss: 1.3348 - val_accuracy: 0.6045\n",
      "Epoch 12/50\n",
      "56/56 - 1s - loss: 1.3096 - accuracy: 0.5275 - val_loss: 1.2565 - val_accuracy: 0.6067\n",
      "Epoch 13/50\n",
      "56/56 - 1s - loss: 1.2234 - accuracy: 0.5949 - val_loss: 1.1709 - val_accuracy: 0.6764\n",
      "Epoch 14/50\n",
      "56/56 - 1s - loss: 1.1406 - accuracy: 0.6410 - val_loss: 1.0882 - val_accuracy: 0.5888\n",
      "Epoch 15/50\n",
      "56/56 - 1s - loss: 1.0442 - accuracy: 0.6955 - val_loss: 0.9854 - val_accuracy: 0.8067\n",
      "Epoch 16/50\n",
      "56/56 - 1s - loss: 0.9436 - accuracy: 0.7551 - val_loss: 0.8976 - val_accuracy: 0.7708\n",
      "Epoch 17/50\n",
      "56/56 - 1s - loss: 0.8605 - accuracy: 0.7607 - val_loss: 0.8085 - val_accuracy: 0.8517\n",
      "Epoch 18/50\n",
      "56/56 - 1s - loss: 0.7724 - accuracy: 0.7966 - val_loss: 0.7259 - val_accuracy: 0.8472\n",
      "Epoch 19/50\n",
      "56/56 - 1s - loss: 0.6829 - accuracy: 0.8337 - val_loss: 0.6611 - val_accuracy: 0.8607\n",
      "Epoch 20/50\n",
      "56/56 - 1s - loss: 0.6156 - accuracy: 0.8640 - val_loss: 0.5927 - val_accuracy: 0.8562\n",
      "Epoch 21/50\n",
      "56/56 - 1s - loss: 0.5520 - accuracy: 0.8781 - val_loss: 0.5378 - val_accuracy: 0.9213\n",
      "Epoch 22/50\n",
      "56/56 - 1s - loss: 0.5075 - accuracy: 0.8876 - val_loss: 0.4896 - val_accuracy: 0.9056\n",
      "Epoch 23/50\n",
      "56/56 - 1s - loss: 0.4414 - accuracy: 0.9146 - val_loss: 0.4455 - val_accuracy: 0.8944\n",
      "Epoch 24/50\n",
      "56/56 - 1s - loss: 0.4084 - accuracy: 0.9253 - val_loss: 0.4055 - val_accuracy: 0.9258\n",
      "Epoch 25/50\n",
      "56/56 - 1s - loss: 0.3699 - accuracy: 0.9315 - val_loss: 0.3717 - val_accuracy: 0.9393\n",
      "Epoch 26/50\n",
      "56/56 - 1s - loss: 0.3290 - accuracy: 0.9528 - val_loss: 0.3358 - val_accuracy: 0.9506\n",
      "Epoch 27/50\n",
      "56/56 - 1s - loss: 0.2955 - accuracy: 0.9500 - val_loss: 0.3103 - val_accuracy: 0.9438\n",
      "Epoch 28/50\n",
      "56/56 - 1s - loss: 0.2734 - accuracy: 0.9545 - val_loss: 0.2948 - val_accuracy: 0.9461\n",
      "Epoch 29/50\n",
      "56/56 - 1s - loss: 0.2419 - accuracy: 0.9697 - val_loss: 0.2717 - val_accuracy: 0.9483\n",
      "Epoch 30/50\n",
      "56/56 - 1s - loss: 0.2219 - accuracy: 0.9669 - val_loss: 0.2661 - val_accuracy: 0.9483\n",
      "Epoch 31/50\n",
      "56/56 - 1s - loss: 0.1980 - accuracy: 0.9747 - val_loss: 0.2360 - val_accuracy: 0.9528\n",
      "Epoch 32/50\n",
      "56/56 - 1s - loss: 0.1851 - accuracy: 0.9730 - val_loss: 0.2199 - val_accuracy: 0.9640\n",
      "Epoch 33/50\n",
      "56/56 - 1s - loss: 0.1684 - accuracy: 0.9764 - val_loss: 0.2152 - val_accuracy: 0.9618\n",
      "Epoch 34/50\n",
      "56/56 - 1s - loss: 0.1547 - accuracy: 0.9820 - val_loss: 0.1934 - val_accuracy: 0.9640\n",
      "Epoch 35/50\n",
      "56/56 - 1s - loss: 0.1413 - accuracy: 0.9809 - val_loss: 0.1933 - val_accuracy: 0.9596\n",
      "Epoch 36/50\n",
      "56/56 - 1s - loss: 0.1349 - accuracy: 0.9831 - val_loss: 0.1839 - val_accuracy: 0.9618\n",
      "Epoch 37/50\n",
      "56/56 - 1s - loss: 0.1216 - accuracy: 0.9888 - val_loss: 0.1733 - val_accuracy: 0.9596\n",
      "Epoch 38/50\n",
      "56/56 - 1s - loss: 0.1140 - accuracy: 0.9854 - val_loss: 0.1634 - val_accuracy: 0.9596\n",
      "Epoch 39/50\n",
      "56/56 - 1s - loss: 0.1108 - accuracy: 0.9865 - val_loss: 0.1675 - val_accuracy: 0.9596\n",
      "Epoch 40/50\n",
      "56/56 - 1s - loss: 0.0902 - accuracy: 0.9938 - val_loss: 0.1586 - val_accuracy: 0.9596\n",
      "Epoch 41/50\n",
      "56/56 - 1s - loss: 0.0931 - accuracy: 0.9865 - val_loss: 0.1491 - val_accuracy: 0.9596\n",
      "Epoch 42/50\n",
      "56/56 - 1s - loss: 0.0857 - accuracy: 0.9899 - val_loss: 0.1384 - val_accuracy: 0.9640\n",
      "Epoch 43/50\n",
      "56/56 - 1s - loss: 0.0800 - accuracy: 0.9899 - val_loss: 0.1417 - val_accuracy: 0.9618\n",
      "Epoch 44/50\n",
      "56/56 - 1s - loss: 0.0710 - accuracy: 0.9910 - val_loss: 0.1370 - val_accuracy: 0.9640\n",
      "Epoch 45/50\n",
      "56/56 - 1s - loss: 0.0720 - accuracy: 0.9904 - val_loss: 0.1292 - val_accuracy: 0.9618\n",
      "Epoch 46/50\n",
      "56/56 - 1s - loss: 0.0653 - accuracy: 0.9921 - val_loss: 0.1405 - val_accuracy: 0.9596\n",
      "Epoch 47/50\n",
      "56/56 - 1s - loss: 0.0587 - accuracy: 0.9944 - val_loss: 0.1297 - val_accuracy: 0.9573\n",
      "Epoch 48/50\n",
      "56/56 - 1s - loss: 0.0578 - accuracy: 0.9927 - val_loss: 0.1282 - val_accuracy: 0.9618\n",
      "Epoch 49/50\n",
      "56/56 - 1s - loss: 0.0554 - accuracy: 0.9938 - val_loss: 0.1196 - val_accuracy: 0.9596\n",
      "Epoch 50/50\n",
      "56/56 - 1s - loss: 0.0479 - accuracy: 0.9966 - val_loss: 0.1131 - val_accuracy: 0.9640\n",
      "CPU times: user 4min 29s, sys: 21.5 s, total: 4min 50s\n",
      "Wall time: 41.5 s\n"
     ]
    }
   ],
   "source": [
    "%%time\n",
    "history = model.fit(x_train, y_train, epochs=50, validation_data=(x_test, y_test), verbose=2)"
   ]
  },
  {
   "cell_type": "code",
   "execution_count": 54,
   "metadata": {},
   "outputs": [
    {
     "data": {
      "image/png": "[encoded data removed]",
      "text/plain": [
       "<Figure size 864x360 with 2 Axes>"
      ]
     },
     "metadata": {
      "needs_background": "light"
     },
     "output_type": "display_data"
    }
   ],
   "source": [
    "import matplotlib.pyplot as plt\n",
    "\n",
    "plt.figure(figsize=(12, 5))\n",
    "ax = plt.subplot(121)\n",
    "plt.plot(history.history['accuracy'])\n",
    "plt.plot(history.history['val_accuracy'])\n",
    "plt.xlabel(\"Epochs\")\n",
    "plt.ylabel(\"Accuracy\")\n",
    "plt.legend(['train accuracy', 'test accuracy'])\n",
    "plt.subplot(122)\n",
    "plt.plot(history.history['loss'])\n",
    "plt.plot(history.history['val_loss']);\n",
    "plt.xlabel(\"Epochs\")\n",
    "plt.ylabel(\"Loss\")\n",
    "plt.legend(['train loss', 'test loss']);"
   ]
  },
  {
   "cell_type": "markdown",
   "metadata": {},
   "source": [
    "#### Result:\n",
    "The training process took about 41 seconds to complete. After 26 epochs the test accuracy reached 95%, and after 32 epoches the accuracy stayed at 96%"
   ]
  },
  {
   "cell_type": "code",
   "execution_count": null,
   "metadata": {},
   "outputs": [],
   "source": []
  }
 ],
 "metadata": {
  "kernelspec": {
   "display_name": "Python 3",
   "language": "python",
   "name": "python3"
  },
  "language_info": {
   "codemirror_mode": {
    "name": "ipython",
    "version": 3
   },
   "file_extension": ".py",
   "mimetype": "text/x-python",
   "name": "python",
   "nbconvert_exporter": "python",
   "pygments_lexer": "ipython3",
   "version": "3.8.3"
  }
 },
 "nbformat": 4,
 "nbformat_minor": 4
}
